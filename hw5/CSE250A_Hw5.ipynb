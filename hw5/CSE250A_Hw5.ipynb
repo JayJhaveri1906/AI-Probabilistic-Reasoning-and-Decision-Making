{
  "nbformat": 4,
  "nbformat_minor": 0,
  "metadata": {
    "colab": {
      "provenance": []
    },
    "kernelspec": {
      "name": "python3",
      "display_name": "Python 3"
    },
    "language_info": {
      "name": "python"
    }
  },
  "cells": [
    {
      "cell_type": "code",
      "execution_count": null,
      "metadata": {
        "id": "FJkBOAZ4fEey"
      },
      "outputs": [],
      "source": [
        "import numpy as np\n",
        "import matplotlib.pyplot as plt\n",
        "from prettytable import PrettyTable"
      ]
    },
    {
      "cell_type": "markdown",
      "source": [
        "## Importing dataset"
      ],
      "metadata": {
        "id": "xQ69PeRBTR-p"
      }
    },
    {
      "cell_type": "code",
      "source": [
        "train3 = []\n",
        "with open('/content/train3.txt') as f:\n",
        "  for line in f.readlines():\n",
        "    train3.append(line.split())\n",
        "\n",
        "train3 = np.array(train3,dtype=float)\n",
        "print(train3.shape)\n",
        "\n"
      ],
      "metadata": {
        "id": "hr6oiOqjfJXq",
        "colab": {
          "base_uri": "https://localhost:8080/"
        },
        "outputId": "fd1548cc-abde-4e34-870d-266816d3e426"
      },
      "execution_count": null,
      "outputs": [
        {
          "output_type": "stream",
          "name": "stdout",
          "text": [
            "(700, 64)\n"
          ]
        }
      ]
    },
    {
      "cell_type": "code",
      "source": [
        "train5 = []\n",
        "with open('/content/train5.txt') as f:\n",
        "  for line in f.readlines():\n",
        "    train5.append(line.split())\n",
        "\n",
        "train5 = np.array(train5,dtype=float)\n",
        "print(train5.shape)\n"
      ],
      "metadata": {
        "colab": {
          "base_uri": "https://localhost:8080/"
        },
        "id": "8wlFYBuXSm_e",
        "outputId": "fc098658-2ed0-4fa6-f886-6d75a3f529a3"
      },
      "execution_count": null,
      "outputs": [
        {
          "output_type": "stream",
          "name": "stdout",
          "text": [
            "(700, 64)\n"
          ]
        }
      ]
    },
    {
      "cell_type": "markdown",
      "source": [
        "## Creating Labels to shuffle the data\n",
        "### 0: image 3\n"
      ],
      "metadata": {
        "id": "WGWepIm8TXvn"
      }
    },
    {
      "cell_type": "code",
      "source": [
        "y3 = np.array(([0]*train3.shape[0])).reshape(-1,1)\n",
        "full3 = np.hstack((train3,y3))\n",
        "print(full3[0])"
      ],
      "metadata": {
        "colab": {
          "base_uri": "https://localhost:8080/"
        },
        "id": "b92Onv0DTPBx",
        "outputId": "780a362a-4804-4db3-f180-8f1d6b749ba1"
      },
      "execution_count": null,
      "outputs": [
        {
          "output_type": "stream",
          "name": "stdout",
          "text": [
            "[0. 0. 1. 1. 1. 1. 1. 1. 0. 1. 1. 1. 0. 1. 1. 1. 0. 1. 0. 1. 1. 1. 0. 0.\n",
            " 0. 1. 1. 1. 1. 1. 1. 0. 0. 0. 0. 0. 1. 1. 1. 0. 0. 0. 0. 1. 1. 0. 0. 0.\n",
            " 0. 1. 1. 1. 0. 0. 0. 0. 1. 1. 0. 0. 0. 0. 0. 0. 0.]\n"
          ]
        }
      ]
    },
    {
      "cell_type": "markdown",
      "source": [
        "### 1: image 5"
      ],
      "metadata": {
        "id": "-Tp_H8jJWc2x"
      }
    },
    {
      "cell_type": "code",
      "source": [
        "y5 = np.array(([1]*train5.shape[0])).reshape(-1,1)\n",
        "full5 = np.hstack((train5,y5))\n",
        "print(full5[0])"
      ],
      "metadata": {
        "colab": {
          "base_uri": "https://localhost:8080/"
        },
        "id": "j8_C2_27WD_Z",
        "outputId": "1ddc6d93-383d-4b52-9ab2-cdacf86dbd07"
      },
      "execution_count": null,
      "outputs": [
        {
          "output_type": "stream",
          "name": "stdout",
          "text": [
            "[0. 1. 1. 1. 1. 1. 1. 1. 0. 0. 1. 0. 0. 0. 0. 0. 0. 1. 1. 1. 1. 0. 0. 0.\n",
            " 0. 1. 1. 1. 1. 1. 1. 0. 0. 0. 0. 0. 0. 1. 1. 1. 0. 0. 0. 0. 0. 0. 1. 1.\n",
            " 1. 1. 0. 0. 0. 0. 1. 1. 1. 1. 1. 1. 1. 1. 1. 0. 1.]\n"
          ]
        }
      ]
    },
    {
      "cell_type": "code",
      "source": [
        "dataset = np.vstack((full3,full5))\n",
        "np.random.shuffle(dataset)\n",
        "train35x = dataset[:,:-1]\n",
        "train35y = dataset[:,-1].reshape(-1,1)"
      ],
      "metadata": {
        "id": "KxnP9wB3WiG7"
      },
      "execution_count": null,
      "outputs": []
    },
    {
      "cell_type": "markdown",
      "source": [
        "## Gradient Ascent"
      ],
      "metadata": {
        "id": "6heVWDlRXwMn"
      }
    },
    {
      "cell_type": "markdown",
      "source": [
        "### Init"
      ],
      "metadata": {
        "id": "JuSxZ6UtcS5_"
      }
    },
    {
      "cell_type": "code",
      "source": [
        "def initWeights():\n",
        "  w = 100 * np.random.random_sample((train3.shape[1],1)) - 50\n",
        "  w/=100\n",
        "  return(w)"
      ],
      "metadata": {
        "id": "9EwfYEhMXnwG"
      },
      "execution_count": null,
      "outputs": []
    },
    {
      "cell_type": "code",
      "source": [
        "def sigmoid(x):\n",
        "  return 1/(1 + np.exp(-x))\n",
        "def calcProb(wts):\n",
        "  return sigmoid(np.dot(train35x,wts))"
      ],
      "metadata": {
        "id": "Iaun70v-Xts6"
      },
      "execution_count": null,
      "outputs": []
    },
    {
      "cell_type": "code",
      "source": [
        "def lrate():\n",
        "  neuLR = np.random.random_sample()/1400\n",
        "  return neuLR"
      ],
      "metadata": {
        "id": "2gdFEiLxaiJa"
      },
      "execution_count": null,
      "outputs": []
    },
    {
      "cell_type": "markdown",
      "source": [
        "### Algo used Gradient Ascent:\n"
      ],
      "metadata": {
        "id": "sx6M9MNUcUTD"
      }
    },
    {
      "cell_type": "code",
      "source": [
        "N = 50000\n",
        "finalW = []\n",
        "minErr = float(\"inf\")\n",
        "neuLR = 0.2/train35x.shape[0]\n",
        "wts = initWeights()\n",
        "lwlis = []\n",
        "errl = []\n",
        "print(\"USING Learning rate as: \",neuLR)\n",
        "for i in range(N):\n",
        "    prob = calcProb(wts)\n",
        "    t1 = np.log(prob)*train35y\n",
        "    t2 = np.log(1-prob) * (1-train35y)\n",
        "    lw = t1+t2\n",
        "    # print(lw)\n",
        "    # break\n",
        "    # lwlis.append(np.sum(lw.reshape(1,-1)[0]))\n",
        "\n",
        "    llh = np.sum(lw,axis = 0)\n",
        "    \n",
        "    lwlis.append(llh)\n",
        "    yPred = np.where(prob > 0.5,1,0)\n",
        "    err = np.sum(np.absolute(train35y - yPred),axis = 0) / train35x.shape[0]\n",
        "    errl.append(err[0])\n",
        "    \n",
        "    if err[0] < minErr:\n",
        "        minErr = err[0]\n",
        "        finalW = wts\n",
        "\n",
        "    # Next vars\n",
        "    gradient = np.sum(((train35y - prob) * train35x) ,axis = 0).reshape(-1,1)\n",
        "    wts = wts + (neuLR * gradient)\n"
      ],
      "metadata": {
        "colab": {
          "base_uri": "https://localhost:8080/"
        },
        "id": "hYB7T-gxbP-S",
        "outputId": "cb37b82b-20e6-4154-c6b4-13695d87bd8e"
      },
      "execution_count": null,
      "outputs": [
        {
          "output_type": "stream",
          "name": "stdout",
          "text": [
            "USING Learning rate as:  0.00014285714285714287\n"
          ]
        }
      ]
    },
    {
      "cell_type": "code",
      "source": [
        "minErr"
      ],
      "metadata": {
        "colab": {
          "base_uri": "https://localhost:8080/"
        },
        "id": "1oZPJXO3ANkR",
        "outputId": "d5f1453d-2e6a-4ea8-822c-c7c31d9a1122"
      },
      "execution_count": null,
      "outputs": [
        {
          "output_type": "execute_result",
          "data": {
            "text/plain": [
              "0.037142857142857144"
            ]
          },
          "metadata": {},
          "execution_count": 292
        }
      ]
    },
    {
      "cell_type": "markdown",
      "source": [
        "### Plot shows convergence!"
      ],
      "metadata": {
        "id": "W_n46XNhnAcr"
      }
    },
    {
      "cell_type": "code",
      "source": [
        "x = np.linspace(0,N,N)\n",
        "fig=plt.figure(figsize=(30,10))\n",
        "fig.add_subplot(1,2,1)\n",
        "plt.plot(x,lwlis,'y')\n",
        "plt.xlabel('number of iterations')\n",
        "plt.ylabel('Likelihood')\n",
        "fig.add_subplot(1,2,2)\n",
        "plt.plot(x,errl,'b')\n",
        "plt.xlabel('number of iterations')\n",
        "plt.ylabel('error rate')\n",
        "plt.show()"
      ],
      "metadata": {
        "colab": {
          "base_uri": "https://localhost:8080/",
          "height": 336
        },
        "id": "YFg3rVuWcMIe",
        "outputId": "596ab811-9e7e-4988-eed0-c1368b9eb1cd"
      },
      "execution_count": null,
      "outputs": [
        {
          "output_type": "display_data",
          "data": {
            "text/plain": [
              "<Figure size 2160x720 with 2 Axes>"
            ],
            "image/png": "[encoded data removed]"
          },
          "metadata": {
            "needs_background": "light"
          }
        }
      ]
    },
    {
      "cell_type": "markdown",
      "source": [
        "### 8x8 Weights matrix, in table and matrix form:"
      ],
      "metadata": {
        "id": "lOzqLeh1nD1Y"
      }
    },
    {
      "cell_type": "code",
      "source": [
        "tmp = finalW.reshape(8,8)\n",
        "cnt = 0\n",
        "for i in range(len(tmp)):\n",
        "  for j in range(len(tmp[0])):\n",
        "    print(\"W\",cnt,\": \",round(tmp[i][j],4),end=\"\\t\")\n",
        "    cnt+=1\n",
        "  print()\n",
        "\n"
      ],
      "metadata": {
        "colab": {
          "base_uri": "https://localhost:8080/"
        },
        "id": "P1ak55rKtNqU",
        "outputId": "3c417530-f681-4b6e-eeca-ade01a4034f4"
      },
      "execution_count": null,
      "outputs": [
        {
          "output_type": "stream",
          "name": "stdout",
          "text": [
            "W 0 :  -0.7931\tW 1 :  -1.4542\tW 2 :  -1.1795\tW 3 :  -1.0558\tW 4 :  -0.7595\tW 5 :  -0.7479\tW 6 :  0.7966\tW 7 :  1.7145\t\n",
            "W 8 :  0.0449\tW 9 :  -0.0231\tW 10 :  0.1844\tW 11 :  -0.0837\tW 12 :  -0.3198\tW 13 :  0.6953\tW 14 :  -1.2356\tW 15 :  -1.2506\t\n",
            "W 16 :  3.1376\tW 17 :  1.377\tW 18 :  1.3376\tW 19 :  0.2213\tW 20 :  0.5923\tW 21 :  -1.8775\tW 22 :  -2.39\tW 23 :  -2.3893\t\n",
            "W 24 :  0.8289\tW 25 :  0.3875\tW 26 :  0.5412\tW 27 :  -0.2347\tW 28 :  -0.54\tW 29 :  -2.1068\tW 30 :  0.3277\tW 31 :  -0.0442\t\n",
            "W 32 :  0.4428\tW 33 :  1.0352\tW 34 :  0.0408\tW 35 :  -0.3249\tW 36 :  -0.6073\tW 37 :  -0.2293\tW 38 :  -0.3799\tW 39 :  -0.306\t\n",
            "W 40 :  1.1113\tW 41 :  -0.1957\tW 42 :  -0.2851\tW 43 :  -0.0488\tW 44 :  0.0733\tW 45 :  -0.7715\tW 46 :  0.7316\tW 47 :  -1.4308\t\n",
            "W 48 :  1.3597\tW 49 :  -0.5857\tW 50 :  1.24\tW 51 :  0.5435\tW 52 :  0.3816\tW 53 :  -0.2663\tW 54 :  0.2263\tW 55 :  -1.0626\t\n",
            "W 56 :  0.5138\tW 57 :  0.264\tW 58 :  0.8857\tW 59 :  1.6772\tW 60 :  0.423\tW 61 :  0.6365\tW 62 :  0.4944\tW 63 :  -0.4671\t\n"
          ]
        }
      ]
    },
    {
      "cell_type": "code",
      "source": [
        "print(\"FINAL WEIGHTS\")\n",
        "x = PrettyTable()\n",
        "x.add_column(\"Weights\", range(64))\n",
        "x.add_column(\"Value\", finalW[:,0])\n",
        "print(x)"
      ],
      "metadata": {
        "colab": {
          "base_uri": "https://localhost:8080/"
        },
        "id": "hRzorlR2hiqs",
        "outputId": "f8bb3282-1464-44bd-bf18-d54895a4458c"
      },
      "execution_count": null,
      "outputs": [
        {
          "output_type": "stream",
          "name": "stdout",
          "text": [
            "FINAL WEIGHTS\n",
            "+---------+-----------------------+\n",
            "| Weights |         Value         |\n",
            "+---------+-----------------------+\n",
            "|    0    |  -0.7930971502761953  |\n",
            "|    1    |  -1.4542176626113985  |\n",
            "|    2    |   -1.179461941762627  |\n",
            "|    3    |  -1.0558085734940366  |\n",
            "|    4    |  -0.7595034789625994  |\n",
            "|    5    |  -0.7478580076891667  |\n",
            "|    6    |   0.7966308450532321  |\n",
            "|    7    |   1.7144935529053704  |\n",
            "|    8    |  0.044856012414151804 |\n",
            "|    9    | -0.023068917705294307 |\n",
            "|    10   |   0.184432639776959   |\n",
            "|    11   |  -0.08369501379328186 |\n",
            "|    12   |  -0.31980200605467984 |\n",
            "|    13   |   0.695308001099729   |\n",
            "|    14   |  -1.2355579937600598  |\n",
            "|    15   |  -1.2506010166308943  |\n",
            "|    16   |    3.13762132638525   |\n",
            "|    17   |   1.377002624226973   |\n",
            "|    18   |   1.3375811520760787  |\n",
            "|    19   |  0.22127818372553024  |\n",
            "|    20   |   0.5923476145605169  |\n",
            "|    21   |  -1.8775155200873153  |\n",
            "|    22   |   -2.389994724425963  |\n",
            "|    23   |    -2.3893362927912   |\n",
            "|    24   |   0.8288722216870243  |\n",
            "|    25   |  0.38751280908807934  |\n",
            "|    26   |   0.5412212608428238  |\n",
            "|    27   |   -0.234730547557729  |\n",
            "|    28   |   -0.53999142163678   |\n",
            "|    29   |   -2.106798321824953  |\n",
            "|    30   |   0.3276566099364046  |\n",
            "|    31   |  -0.04416086108299056 |\n",
            "|    32   |  0.44282847104127987  |\n",
            "|    33   |   1.035172070927948   |\n",
            "|    34   |  0.04076469278698515  |\n",
            "|    35   |  -0.32485890065781703 |\n",
            "|    36   |  -0.6073199960535977  |\n",
            "|    37   |  -0.22925816279423256 |\n",
            "|    38   |  -0.3799340192676351  |\n",
            "|    39   |  -0.30598899509349664 |\n",
            "|    40   |   1.1113238735482975  |\n",
            "|    41   |  -0.19573608796514153 |\n",
            "|    42   |  -0.28505245414227726 |\n",
            "|    43   |  -0.04876017278474009 |\n",
            "|    44   |  0.07327446375341885  |\n",
            "|    45   |  -0.7714622182289411  |\n",
            "|    46   |   0.7316488355955569  |\n",
            "|    47   |   -1.430775382189215  |\n",
            "|    48   |   1.3597276668091318  |\n",
            "|    49   |  -0.5856640305629807  |\n",
            "|    50   |   1.2400132268949966  |\n",
            "|    51   |   0.5435084708141752  |\n",
            "|    52   |  0.38162507503740445  |\n",
            "|    53   |  -0.26628236912329795 |\n",
            "|    54   |  0.22631579669606525  |\n",
            "|    55   |  -1.0626353203271255  |\n",
            "|    56   |   0.5138333008748595  |\n",
            "|    57   |   0.2640004323533073  |\n",
            "|    58   |   0.8856856573589685  |\n",
            "|    59   |   1.6771631090205692  |\n",
            "|    60   |  0.42304963807716733  |\n",
            "|    61   |   0.6364574209890034  |\n",
            "|    62   |  0.49437534153936846  |\n",
            "|    63   |  -0.46706621014570965 |\n",
            "+---------+-----------------------+\n"
          ]
        }
      ]
    },
    {
      "cell_type": "markdown",
      "source": [
        "## Testing"
      ],
      "metadata": {
        "id": "rXPcwcSKisVv"
      }
    },
    {
      "cell_type": "code",
      "source": [
        "test3 = []\n",
        "with open('/content/test3.txt') as f:\n",
        "  for line in f.readlines():\n",
        "    test3.append(line.split())\n",
        "\n",
        "test3 = np.array(test3,dtype=float)\n",
        "print(test3.shape)"
      ],
      "metadata": {
        "id": "HzsKnmeQiPPG",
        "colab": {
          "base_uri": "https://localhost:8080/"
        },
        "outputId": "fd8f3e28-fb93-40ef-862e-390f43e0de57"
      },
      "execution_count": null,
      "outputs": [
        {
          "output_type": "stream",
          "name": "stdout",
          "text": [
            "(400, 64)\n"
          ]
        }
      ]
    },
    {
      "cell_type": "code",
      "source": [
        "test5 = []\n",
        "with open('/content/test5.txt') as f:\n",
        "  for line in f.readlines():\n",
        "    test5.append(line.split())\n",
        "\n",
        "test5 = np.array(test5,dtype=float)\n",
        "print(test5.shape)"
      ],
      "metadata": {
        "id": "Yq4yL5sPiiGz",
        "colab": {
          "base_uri": "https://localhost:8080/"
        },
        "outputId": "b8a0f0e3-c979-4493-bf42-97be028935c9"
      },
      "execution_count": null,
      "outputs": [
        {
          "output_type": "stream",
          "name": "stdout",
          "text": [
            "(400, 64)\n"
          ]
        }
      ]
    },
    {
      "cell_type": "code",
      "source": [
        "y_3 = np.array(([0]*test3.shape[0])).reshape(-1,1)\n",
        "full3 = np.hstack((test3,y_3))\n",
        "# print(full3[0])\n",
        "\n",
        "y_5 = np.array(([1]*test5.shape[0])).reshape(-1,1)\n",
        "full5 = np.hstack((test5,y_5))\n",
        "# print(full5[0])\n",
        "\n",
        "testset = np.vstack((full3,full5))\n",
        "np.random.shuffle(testset)\n",
        "test35x = testset[:,:-1]\n",
        "test35y = testset[:,-1].reshape(-1,1)"
      ],
      "metadata": {
        "id": "4lItgl2QirYa"
      },
      "execution_count": null,
      "outputs": []
    },
    {
      "cell_type": "markdown",
      "source": [
        "## Error rate for test3 and test5 combined"
      ],
      "metadata": {
        "id": "6ruS8BbPidb5"
      }
    },
    {
      "cell_type": "code",
      "source": [
        "def calcTest(wts):\n",
        "  return sigmoid(np.dot(test35x,wts))"
      ],
      "metadata": {
        "id": "Y3BmuRerjtKD"
      },
      "execution_count": null,
      "outputs": []
    },
    {
      "cell_type": "code",
      "source": [
        "prob = calcTest(finalW)\n",
        "pred = np.where(prob > 0.5,1,0)\n",
        "err = np.sum(np.absolute(test35y - pred),axis = 0) / test35x.shape[0]\n",
        "print(\"Test Error:\",str(err))"
      ],
      "metadata": {
        "id": "1SSXMSEcjEcc",
        "colab": {
          "base_uri": "https://localhost:8080/"
        },
        "outputId": "56c80f0d-bf81-4640-9ebe-fc80aafec556"
      },
      "execution_count": null,
      "outputs": [
        {
          "output_type": "stream",
          "name": "stdout",
          "text": [
            "Test Error: [0.06]\n"
          ]
        }
      ]
    },
    {
      "cell_type": "markdown",
      "source": [
        "## Error rate for test3 "
      ],
      "metadata": {
        "id": "jlylsF00ihzh"
      }
    },
    {
      "cell_type": "code",
      "source": [
        "def calcTest(wts):\n",
        "  return sigmoid(np.dot(test3,wts))"
      ],
      "metadata": {
        "id": "6kEve1kViic-"
      },
      "execution_count": null,
      "outputs": []
    },
    {
      "cell_type": "code",
      "source": [
        "prob = calcTest(finalW)\n",
        "pred = np.where(prob > 0.5,1,0)\n",
        "err = np.sum(np.absolute(y_3 - pred),axis = 0) / test3.shape[0]\n",
        "print(\"Test Error:\",str(err))"
      ],
      "metadata": {
        "colab": {
          "base_uri": "https://localhost:8080/"
        },
        "id": "3bivAS9Mimzn",
        "outputId": "638321ec-c952-4637-f9e2-5b2226c17ea8"
      },
      "execution_count": null,
      "outputs": [
        {
          "output_type": "stream",
          "name": "stdout",
          "text": [
            "Test Error: [0.0675]\n"
          ]
        }
      ]
    },
    {
      "cell_type": "markdown",
      "source": [
        "## Error rate for test5 "
      ],
      "metadata": {
        "id": "j02TGZT7ii8H"
      }
    },
    {
      "cell_type": "code",
      "source": [
        "def calcTest(wts):\n",
        "  return sigmoid(np.dot(test5,wts))"
      ],
      "metadata": {
        "id": "bnKSBdvpijzx"
      },
      "execution_count": null,
      "outputs": []
    },
    {
      "cell_type": "code",
      "source": [
        "prob = calcTest(finalW)\n",
        "pred = np.where(prob > 0.5,1,0)\n",
        "err = np.sum(np.absolute(y_5 - pred),axis = 0) / test5.shape[0]\n",
        "print(\"Test Error:\",str(err))"
      ],
      "metadata": {
        "colab": {
          "base_uri": "https://localhost:8080/"
        },
        "id": "a0OS6Oq5iy9G",
        "outputId": "f687fd2d-2687-47a6-8a59-3cf0ecf8e8b1"
      },
      "execution_count": null,
      "outputs": [
        {
          "output_type": "stream",
          "name": "stdout",
          "text": [
            "Test Error: [0.0525]\n"
          ]
        }
      ]
    },
    {
      "cell_type": "code",
      "source": [],
      "metadata": {
        "id": "M1RqrjIui3Jr"
      },
      "execution_count": null,
      "outputs": []
    }
  ]
}