{
  "nbformat": 4,
  "nbformat_minor": 0,
  "metadata": {
    "colab": {
      "provenance": []
    },
    "kernelspec": {
      "name": "python3",
      "display_name": "Python 3"
    },
    "language_info": {
      "name": "python"
    },
    "widgets": {
      "application/vnd.jupyter.widget-state+json": {
        "e0f2f45c9a84496eba86a762d44a56ee": {
          "model_module": "@jupyter-widgets/controls",
          "model_name": "HBoxModel",
          "model_module_version": "1.5.0",
          "state": {
            "_dom_classes": [],
            "_model_module": "@jupyter-widgets/controls",
            "_model_module_version": "1.5.0",
            "_model_name": "HBoxModel",
            "_view_count": null,
            "_view_module": "@jupyter-widgets/controls",
            "_view_module_version": "1.5.0",
            "_view_name": "HBoxView",
            "box_style": "",
            "children": [
              "IPY_MODEL_a2dcfb5dab9447dc92e2e1b44d228061",
              "IPY_MODEL_58dffef51de94cbeb703899cb3d6ba07",
              "IPY_MODEL_c0661d34a2d648c8877f5b01aa8130a7"
            ],
            "layout": "IPY_MODEL_7ee32a55cf4c4c1d8de0cfbf4ea70efe"
          }
        },
        "a2dcfb5dab9447dc92e2e1b44d228061": {
          "model_module": "@jupyter-widgets/controls",
          "model_name": "HTMLModel",
          "model_module_version": "1.5.0",
          "state": {
            "_dom_classes": [],
            "_model_module": "@jupyter-widgets/controls",
            "_model_module_version": "1.5.0",
            "_model_name": "HTMLModel",
            "_view_count": null,
            "_view_module": "@jupyter-widgets/controls",
            "_view_module_version": "1.5.0",
            "_view_name": "HTMLView",
            "description": "",
            "description_tooltip": null,
            "layout": "IPY_MODEL_85d4982dc17c4721ad57b24f855daf92",
            "placeholder": "​",
            "style": "IPY_MODEL_cce3adf9f751412ea642f952b61595a8",
            "value": "100%"
          }
        },
        "58dffef51de94cbeb703899cb3d6ba07": {
          "model_module": "@jupyter-widgets/controls",
          "model_name": "FloatProgressModel",
          "model_module_version": "1.5.0",
          "state": {
            "_dom_classes": [],
            "_model_module": "@jupyter-widgets/controls",
            "_model_module_version": "1.5.0",
            "_model_name": "FloatProgressModel",
            "_view_count": null,
            "_view_module": "@jupyter-widgets/controls",
            "_view_module_version": "1.5.0",
            "_view_name": "ProgressView",
            "bar_style": "success",
            "description": "",
            "description_tooltip": null,
            "layout": "IPY_MODEL_49224162c99e457ea71b50dfc9c6706c",
            "max": 257,
            "min": 0,
            "orientation": "horizontal",
            "style": "IPY_MODEL_4856631a90fe40eba9d8aab57400c646",
            "value": 257
          }
        },
        "c0661d34a2d648c8877f5b01aa8130a7": {
          "model_module": "@jupyter-widgets/controls",
          "model_name": "HTMLModel",
          "model_module_version": "1.5.0",
          "state": {
            "_dom_classes": [],
            "_model_module": "@jupyter-widgets/controls",
            "_model_module_version": "1.5.0",
            "_model_name": "HTMLModel",
            "_view_count": null,
            "_view_module": "@jupyter-widgets/controls",
            "_view_module_version": "1.5.0",
            "_view_name": "HTMLView",
            "description": "",
            "description_tooltip": null,
            "layout": "IPY_MODEL_32e7f4bf3b2349be82a8af30b7631395",
            "placeholder": "​",
            "style": "IPY_MODEL_10206bf3812c450991f71c9066b0a8a8",
            "value": " 257/257 [00:50&lt;00:00,  5.27it/s]"
          }
        },
        "7ee32a55cf4c4c1d8de0cfbf4ea70efe": {
          "model_module": "@jupyter-widgets/base",
          "model_name": "LayoutModel",
          "model_module_version": "1.2.0",
          "state": {
            "_model_module": "@jupyter-widgets/base",
            "_model_module_version": "1.2.0",
            "_model_name": "LayoutModel",
            "_view_count": null,
            "_view_module": "@jupyter-widgets/base",
            "_view_module_version": "1.2.0",
            "_view_name": "LayoutView",
            "align_content": null,
            "align_items": null,
            "align_self": null,
            "border": null,
            "bottom": null,
            "display": null,
            "flex": null,
            "flex_flow": null,
            "grid_area": null,
            "grid_auto_columns": null,
            "grid_auto_flow": null,
            "grid_auto_rows": null,
            "grid_column": null,
            "grid_gap": null,
            "grid_row": null,
            "grid_template_areas": null,
            "grid_template_columns": null,
            "grid_template_rows": null,
            "height": null,
            "justify_content": null,
            "justify_items": null,
            "left": null,
            "margin": null,
            "max_height": null,
            "max_width": null,
            "min_height": null,
            "min_width": null,
            "object_fit": null,
            "object_position": null,
            "order": null,
            "overflow": null,
            "overflow_x": null,
            "overflow_y": null,
            "padding": null,
            "right": null,
            "top": null,
            "visibility": null,
            "width": null
          }
        },
        "85d4982dc17c4721ad57b24f855daf92": {
          "model_module": "@jupyter-widgets/base",
          "model_name": "LayoutModel",
          "model_module_version": "1.2.0",
          "state": {
            "_model_module": "@jupyter-widgets/base",
            "_model_module_version": "1.2.0",
            "_model_name": "LayoutModel",
            "_view_count": null,
            "_view_module": "@jupyter-widgets/base",
            "_view_module_version": "1.2.0",
            "_view_name": "LayoutView",
            "align_content": null,
            "align_items": null,
            "align_self": null,
            "border": null,
            "bottom": null,
            "display": null,
            "flex": null,
            "flex_flow": null,
            "grid_area": null,
            "grid_auto_columns": null,
            "grid_auto_flow": null,
            "grid_auto_rows": null,
            "grid_column": null,
            "grid_gap": null,
            "grid_row": null,
            "grid_template_areas": null,
            "grid_template_columns": null,
            "grid_template_rows": null,
            "height": null,
            "justify_content": null,
            "justify_items": null,
            "left": null,
            "margin": null,
            "max_height": null,
            "max_width": null,
            "min_height": null,
            "min_width": null,
            "object_fit": null,
            "object_position": null,
            "order": null,
            "overflow": null,
            "overflow_x": null,
            "overflow_y": null,
            "padding": null,
            "right": null,
            "top": null,
            "visibility": null,
            "width": null
          }
        },
        "cce3adf9f751412ea642f952b61595a8": {
          "model_module": "@jupyter-widgets/controls",
          "model_name": "DescriptionStyleModel",
          "model_module_version": "1.5.0",
          "state": {
            "_model_module": "@jupyter-widgets/controls",
            "_model_module_version": "1.5.0",
            "_model_name": "DescriptionStyleModel",
            "_view_count": null,
            "_view_module": "@jupyter-widgets/base",
            "_view_module_version": "1.2.0",
            "_view_name": "StyleView",
            "description_width": ""
          }
        },
        "49224162c99e457ea71b50dfc9c6706c": {
          "model_module": "@jupyter-widgets/base",
          "model_name": "LayoutModel",
          "model_module_version": "1.2.0",
          "state": {
            "_model_module": "@jupyter-widgets/base",
            "_model_module_version": "1.2.0",
            "_model_name": "LayoutModel",
            "_view_count": null,
            "_view_module": "@jupyter-widgets/base",
            "_view_module_version": "1.2.0",
            "_view_name": "LayoutView",
            "align_content": null,
            "align_items": null,
            "align_self": null,
            "border": null,
            "bottom": null,
            "display": null,
            "flex": null,
            "flex_flow": null,
            "grid_area": null,
            "grid_auto_columns": null,
            "grid_auto_flow": null,
            "grid_auto_rows": null,
            "grid_column": null,
            "grid_gap": null,
            "grid_row": null,
            "grid_template_areas": null,
            "grid_template_columns": null,
            "grid_template_rows": null,
            "height": null,
            "justify_content": null,
            "justify_items": null,
            "left": null,
            "margin": null,
            "max_height": null,
            "max_width": null,
            "min_height": null,
            "min_width": null,
            "object_fit": null,
            "object_position": null,
            "order": null,
            "overflow": null,
            "overflow_x": null,
            "overflow_y": null,
            "padding": null,
            "right": null,
            "top": null,
            "visibility": null,
            "width": null
          }
        },
        "4856631a90fe40eba9d8aab57400c646": {
          "model_module": "@jupyter-widgets/controls",
          "model_name": "ProgressStyleModel",
          "model_module_version": "1.5.0",
          "state": {
            "_model_module": "@jupyter-widgets/controls",
            "_model_module_version": "1.5.0",
            "_model_name": "ProgressStyleModel",
            "_view_count": null,
            "_view_module": "@jupyter-widgets/base",
            "_view_module_version": "1.2.0",
            "_view_name": "StyleView",
            "bar_color": null,
            "description_width": ""
          }
        },
        "32e7f4bf3b2349be82a8af30b7631395": {
          "model_module": "@jupyter-widgets/base",
          "model_name": "LayoutModel",
          "model_module_version": "1.2.0",
          "state": {
            "_model_module": "@jupyter-widgets/base",
            "_model_module_version": "1.2.0",
            "_model_name": "LayoutModel",
            "_view_count": null,
            "_view_module": "@jupyter-widgets/base",
            "_view_module_version": "1.2.0",
            "_view_name": "LayoutView",
            "align_content": null,
            "align_items": null,
            "align_self": null,
            "border": null,
            "bottom": null,
            "display": null,
            "flex": null,
            "flex_flow": null,
            "grid_area": null,
            "grid_auto_columns": null,
            "grid_auto_flow": null,
            "grid_auto_rows": null,
            "grid_column": null,
            "grid_gap": null,
            "grid_row": null,
            "grid_template_areas": null,
            "grid_template_columns": null,
            "grid_template_rows": null,
            "height": null,
            "justify_content": null,
            "justify_items": null,
            "left": null,
            "margin": null,
            "max_height": null,
            "max_width": null,
            "min_height": null,
            "min_width": null,
            "object_fit": null,
            "object_position": null,
            "order": null,
            "overflow": null,
            "overflow_x": null,
            "overflow_y": null,
            "padding": null,
            "right": null,
            "top": null,
            "visibility": null,
            "width": null
          }
        },
        "10206bf3812c450991f71c9066b0a8a8": {
          "model_module": "@jupyter-widgets/controls",
          "model_name": "DescriptionStyleModel",
          "model_module_version": "1.5.0",
          "state": {
            "_model_module": "@jupyter-widgets/controls",
            "_model_module_version": "1.5.0",
            "_model_name": "DescriptionStyleModel",
            "_view_count": null,
            "_view_module": "@jupyter-widgets/base",
            "_view_module_version": "1.2.0",
            "_view_name": "StyleView",
            "description_width": ""
          }
        }
      }
    }
  },
  "cells": [
    {
      "cell_type": "code",
      "source": [
        "import numpy as np\n",
        "from collections import defaultdict\n",
        "from tqdm.notebook import tqdm\n",
        "from prettytable import PrettyTable"
      ],
      "metadata": {
        "id": "ZCINEKyvYolE"
      },
      "execution_count": null,
      "outputs": []
    },
    {
      "cell_type": "markdown",
      "source": [
        "## Q1"
      ],
      "metadata": {
        "id": "ZG5GbPQ6W2EQ"
      }
    },
    {
      "cell_type": "markdown",
      "source": [
        "### Importing data\n",
        "\n"
      ],
      "metadata": {
        "id": "BFnNdNgMY0nQ"
      }
    },
    {
      "cell_type": "code",
      "execution_count": null,
      "metadata": {
        "id": "2nnoLbM5Wyko"
      },
      "outputs": [],
      "source": [
        "users = np.loadtxt(\"hw8_ids.txt\",dtype=str)\n",
        "items = np.loadtxt(\"hw8_movies.txt\",dtype=str)\n",
        "tmpRatings = np.loadtxt(\"hw8_ratings.txt\",dtype=str)"
      ]
    },
    {
      "cell_type": "markdown",
      "source": [
        "### Preprocessing"
      ],
      "metadata": {
        "id": "c2Onte2qiLEl"
      }
    },
    {
      "cell_type": "code",
      "source": [
        "ratings = np.zeros((tmpRatings.shape[0],tmpRatings.shape[1]))\n",
        "for i in range(len(tmpRatings)):\n",
        "  for j in range(len(tmpRatings[0])):\n",
        "    try:\n",
        "      ratings[i][j] = int(tmpRatings[i,j])\n",
        "    except:\n",
        "      ratings[i,j] = -1"
      ],
      "metadata": {
        "id": "xA_YfLczY9rm"
      },
      "execution_count": null,
      "outputs": []
    },
    {
      "cell_type": "code",
      "source": [
        "ratings"
      ],
      "metadata": {
        "colab": {
          "base_uri": "https://localhost:8080/"
        },
        "id": "Ja1uH8FQZsZV",
        "outputId": "e98538f4-a923-4956-d982-f0b2e0eee045"
      },
      "execution_count": null,
      "outputs": [
        {
          "output_type": "execute_result",
          "data": {
            "text/plain": [
              "array([[ 1.,  1., -1., ...,  1., -1., -1.],\n",
              "       [ 1., -1.,  0., ...,  0., -1., -1.],\n",
              "       [ 1.,  1., -1., ...,  0., -1., -1.],\n",
              "       ...,\n",
              "       [ 1., -1., -1., ..., -1., -1., -1.],\n",
              "       [-1.,  0., -1., ..., -1., -1., -1.],\n",
              "       [ 1., -1., -1., ..., -1.,  1.,  1.]])"
            ]
          },
          "metadata": {},
          "execution_count": 4
        }
      ]
    },
    {
      "cell_type": "code",
      "source": [
        "np.unique(ratings)"
      ],
      "metadata": {
        "colab": {
          "base_uri": "https://localhost:8080/"
        },
        "id": "5edTWCarf2P2",
        "outputId": "82bdc0ea-730c-4376-c702-007a4a51fe8d"
      },
      "execution_count": null,
      "outputs": [
        {
          "output_type": "execute_result",
          "data": {
            "text/plain": [
              "array([-1.,  0.,  1.])"
            ]
          },
          "metadata": {},
          "execution_count": 5
        }
      ]
    },
    {
      "cell_type": "code",
      "source": [
        "UIR = []"
      ],
      "metadata": {
        "id": "LOaXpjJiZyHt"
      },
      "execution_count": null,
      "outputs": []
    },
    {
      "cell_type": "code",
      "source": [
        "for i in range(len(ratings)):\n",
        "  user = users[i]\n",
        "  for j in range(len(ratings[0])):\n",
        "    item = items[j]\n",
        "    UIR.append([user,item,ratings[i,j]])"
      ],
      "metadata": {
        "id": "IfteXA1EfVrm"
      },
      "execution_count": null,
      "outputs": []
    },
    {
      "cell_type": "code",
      "source": [
        "UIR[:10]"
      ],
      "metadata": {
        "colab": {
          "base_uri": "https://localhost:8080/"
        },
        "id": "fwQ8PSq5gJq4",
        "outputId": "43b26bb1-dcf4-4f99-8423-bbb866e3dfe6"
      },
      "execution_count": null,
      "outputs": [
        {
          "output_type": "execute_result",
          "data": {
            "text/plain": [
              "[['\\ufeffA12614795', 'Inception', 1.0],\n",
              " ['\\ufeffA12614795', 'The_Social_Network', 1.0],\n",
              " ['\\ufeffA12614795', 'Black_Swan', -1.0],\n",
              " ['\\ufeffA12614795', 'Shutter_Island', 1.0],\n",
              " ['\\ufeffA12614795', 'The_Last_Airbender', 0.0],\n",
              " ['\\ufeffA12614795', 'Harry_Potter_and_the_Deathly_Hallows:_Part_1', -1.0],\n",
              " ['\\ufeffA12614795', 'Iron_Man_2', 1.0],\n",
              " ['\\ufeffA12614795', 'Toy_Story_3', 1.0],\n",
              " ['\\ufeffA12614795', 'Fast_Five', 1.0],\n",
              " ['\\ufeffA12614795', 'Thor', 1.0]]"
            ]
          },
          "metadata": {},
          "execution_count": 8
        }
      ]
    },
    {
      "cell_type": "code",
      "source": [
        "ratingsPerUser = defaultdict(list)\n",
        "ratingsPerItem = defaultdict(list)\n",
        "for u,b,r in UIR:\n",
        "    ratingsPerUser[u].append((b,r))\n",
        "    ratingsPerItem[b].append((u,r))"
      ],
      "metadata": {
        "id": "Fo2HjPUcgXt9"
      },
      "execution_count": null,
      "outputs": []
    },
    {
      "cell_type": "code",
      "source": [
        "usersPerItem = defaultdict(set) # Maps an item to the users who rated it\n",
        "itemsPerUser = defaultdict(set) # Maps a user to the items that they rated"
      ],
      "metadata": {
        "id": "uJcKND7eh1Dm"
      },
      "execution_count": null,
      "outputs": []
    },
    {
      "cell_type": "code",
      "source": [
        "ratingDict = {} # To retrieve a rating for a specific user/item pair"
      ],
      "metadata": {
        "id": "t4NopG8gh7Vg"
      },
      "execution_count": null,
      "outputs": []
    },
    {
      "cell_type": "code",
      "source": [
        "for i in UIR:\n",
        "  itemsPerUser[i[0]].add(i[1])\n",
        "\n",
        "  usersPerItem[i[1]].add(i[0])\n",
        "\n",
        "  ratingDict[(i[0],i[1])] = i[2]"
      ],
      "metadata": {
        "id": "_dXqSVq7iA0F"
      },
      "execution_count": null,
      "outputs": []
    },
    {
      "cell_type": "code",
      "source": [
        "ratingsPerUser[\"A59017531\"][:10]"
      ],
      "metadata": {
        "colab": {
          "base_uri": "https://localhost:8080/"
        },
        "id": "zngge4U-iCah",
        "outputId": "3e88a973-e93b-4a28-f7c4-dbea97390e77"
      },
      "execution_count": null,
      "outputs": [
        {
          "output_type": "execute_result",
          "data": {
            "text/plain": [
              "[('Inception', 1.0),\n",
              " ('The_Social_Network', -1.0),\n",
              " ('Black_Swan', -1.0),\n",
              " ('Shutter_Island', -1.0),\n",
              " ('The_Last_Airbender', 1.0),\n",
              " ('Harry_Potter_and_the_Deathly_Hallows:_Part_1', 1.0),\n",
              " ('Iron_Man_2', 1.0),\n",
              " ('Toy_Story_3', 1.0),\n",
              " ('Fast_Five', 1.0),\n",
              " ('Thor', 1.0)]"
            ]
          },
          "metadata": {},
          "execution_count": 13
        }
      ]
    },
    {
      "cell_type": "markdown",
      "source": [
        "### Q1A"
      ],
      "metadata": {
        "id": "EKxATu6ilOhR"
      }
    },
    {
      "cell_type": "code",
      "source": [
        "popDict = {}\n",
        "for item in ratingsPerItem:\n",
        "  recN = 0\n",
        "  sawN = 0\n",
        "  for user in ratingsPerUser:\n",
        "    rat = ratingDict[(user,item)]\n",
        "    if rat == -1:\n",
        "      continue\n",
        "    if rat == 1:\n",
        "      recN+=1\n",
        "    sawN+=1\n",
        "  if sawN!=0:\n",
        "    popDict[item] = recN/sawN\n",
        "  else:\n",
        "    popDict[item] = -1"
      ],
      "metadata": {
        "id": "yFKldyAFiaV2"
      },
      "execution_count": null,
      "outputs": []
    },
    {
      "cell_type": "code",
      "source": [
        "popDict = dict(sorted(popDict.items(),key=lambda item:item[1]))"
      ],
      "metadata": {
        "id": "-1zicQJlk5sp"
      },
      "execution_count": null,
      "outputs": []
    },
    {
      "cell_type": "code",
      "source": [
        "popDict.keys()"
      ],
      "metadata": {
        "colab": {
          "base_uri": "https://localhost:8080/"
        },
        "id": "oyglVB5Dk63a",
        "outputId": "124e11b4-9e46-4c08-e972-5fc30290e93c"
      },
      "execution_count": null,
      "outputs": [
        {
          "output_type": "execute_result",
          "data": {
            "text/plain": [
              "dict_keys(['Chappaquidick', 'The_Last_Airbender', 'I_Feel_Pretty', 'Fifty_Shades_of_Grey', 'Fast_&_Furious:_Hobbs_&_Shaw', 'Hustlers', 'Magic_Mike', 'Bridemaids', 'World_War_Z', 'The_Shape_of_Water', 'Good_Boys', 'Prometheus', 'Pokemon_Detective_Pikachu', 'American_Hustle', 'Terminator:_Dark_Fate', 'The_Farewell', 'Man_of_Steel', 'Fast_Five', 'The_Hateful_Eight', 'Star_Wars:_The_Force_Awakens', 'The_Help', 'Rocketman', 'Drive', 'The_Girls_with_the_Dragon_Tattoo', 'Thor', 'Avengers:_Age_of_Ultron', 'Phantom_Thread', 'Us', 'The_Revenant', 'X-Men:_First_Class', 'Pitch_Perfect', 'Dunkirk', 'Ready_Player_One', 'Room', 'Jurassic_World', 'Mad_Max:_Fury_Road', 'Once_Upon_a_Time_in_Hollywood', 'Manchester_by_the_Sea', 'The_Perks_of_Being_a_Wallflower', 'Spiderman:_Far_From_Home', 'Her', 'Captain_America:_The_First_Avenger', 'Frozen', 'Hidden_Figures', 'The_Hunger_Games', 'Iron_Man_2', 'Les_Miserables', 'Toy_Story_3', 'Three_Billboards_Outside_Ebbing', 'Darkest_Hour', 'Ex_Machina', 'Gone_Girl', 'Black_Swan', '12_Years_a_Slave', 'Avengers:_Endgame', 'The_Avengers', 'Midnight_in_Paris', 'The_Great_Gatsby', 'La_La_Land', 'Avengers:_Infinity_War', 'The_Theory_of_Everything', 'Now_You_See_Me', '21_Jump_Street', 'Django_Unchained', 'The_Martian', 'Harry_Potter_and_the_Deathly_Hallows:_Part_1', 'Joker', 'Wolf_of_Wall_Street', 'The_Lion_King', 'Harry_Potter_and_the_Deathly_Hallows:_Part_2', 'Parasite', 'The_Social_Network', 'The_Dark_Knight_Rises', 'Shutter_Island', 'Interstellar', 'Inception'])"
            ]
          },
          "metadata": {},
          "execution_count": 16
        }
      ]
    },
    {
      "cell_type": "code",
      "source": [
        "popDict.items()"
      ],
      "metadata": {
        "colab": {
          "base_uri": "https://localhost:8080/"
        },
        "id": "i0dFyoJV_Ros",
        "outputId": "5375f5bd-897b-4fac-8c53-b80616f4ff5d"
      },
      "execution_count": null,
      "outputs": [
        {
          "output_type": "execute_result",
          "data": {
            "text/plain": [
              "dict_items([('Chappaquidick', 0.34285714285714286), ('The_Last_Airbender', 0.460431654676259), ('I_Feel_Pretty', 0.4878048780487805), ('Fifty_Shades_of_Grey', 0.4975124378109453), ('Fast_&_Furious:_Hobbs_&_Shaw', 0.5181347150259067), ('Hustlers', 0.5185185185185185), ('Magic_Mike', 0.5333333333333333), ('Bridemaids', 0.5384615384615384), ('World_War_Z', 0.5774647887323944), ('The_Shape_of_Water', 0.5795454545454546), ('Good_Boys', 0.6), ('Prometheus', 0.6017699115044248), ('Pokemon_Detective_Pikachu', 0.6020942408376964), ('American_Hustle', 0.6052631578947368), ('Terminator:_Dark_Fate', 0.6052631578947368), ('The_Farewell', 0.6111111111111112), ('Man_of_Steel', 0.625), ('Fast_Five', 0.6256684491978609), ('The_Hateful_Eight', 0.6282051282051282), ('Star_Wars:_The_Force_Awakens', 0.6495726495726496), ('The_Help', 0.6515151515151515), ('Rocketman', 0.6515151515151515), ('Drive', 0.6623376623376623), ('The_Girls_with_the_Dragon_Tattoo', 0.6777777777777778), ('Thor', 0.6804123711340206), ('Avengers:_Age_of_Ultron', 0.6928104575163399), ('Phantom_Thread', 0.6976744186046512), ('Us', 0.6976744186046512), ('The_Revenant', 0.7007874015748031), ('X-Men:_First_Class', 0.701195219123506), ('Pitch_Perfect', 0.7086614173228346), ('Dunkirk', 0.7135416666666666), ('Ready_Player_One', 0.7142857142857143), ('Room', 0.7162162162162162), ('Jurassic_World', 0.7171717171717171), ('Mad_Max:_Fury_Road', 0.7243589743589743), ('Once_Upon_a_Time_in_Hollywood', 0.725925925925926), ('Manchester_by_the_Sea', 0.7272727272727273), ('The_Perks_of_Being_a_Wallflower', 0.7346938775510204), ('Spiderman:_Far_From_Home', 0.7450331125827815), ('Her', 0.75), ('Captain_America:_The_First_Avenger', 0.7523510971786834), ('Frozen', 0.7552447552447552), ('Hidden_Figures', 0.7590361445783133), ('The_Hunger_Games', 0.7676767676767676), ('Iron_Man_2', 0.770392749244713), ('Les_Miserables', 0.7737226277372263), ('Toy_Story_3', 0.7777777777777778), ('Three_Billboards_Outside_Ebbing', 0.7804878048780488), ('Darkest_Hour', 0.78125), ('Ex_Machina', 0.7863247863247863), ('Gone_Girl', 0.7938931297709924), ('Black_Swan', 0.7981651376146789), ('12_Years_a_Slave', 0.811965811965812), ('Avengers:_Endgame', 0.8136645962732919), ('The_Avengers', 0.8147058823529412), ('Midnight_in_Paris', 0.8170731707317073), ('The_Great_Gatsby', 0.8178137651821862), ('La_La_Land', 0.8235294117647058), ('Avengers:_Infinity_War', 0.826625386996904), ('The_Theory_of_Everything', 0.8294117647058824), ('Now_You_See_Me', 0.836), ('21_Jump_Street', 0.837037037037037), ('Django_Unchained', 0.84472049689441), ('The_Martian', 0.861244019138756), ('Harry_Potter_and_the_Deathly_Hallows:_Part_1', 0.8628048780487805), ('Joker', 0.8647686832740213), ('Wolf_of_Wall_Street', 0.8669064748201439), ('The_Lion_King', 0.8717948717948718), ('Harry_Potter_and_the_Deathly_Hallows:_Part_2', 0.871875), ('Parasite', 0.8878923766816144), ('The_Social_Network', 0.8960396039603961), ('The_Dark_Knight_Rises', 0.8982456140350877), ('Shutter_Island', 0.9333333333333333), ('Interstellar', 0.946843853820598), ('Inception', 0.9605263157894737)])"
            ]
          },
          "metadata": {},
          "execution_count": 17
        }
      ]
    },
    {
      "cell_type": "markdown",
      "source": [
        "### The rankings are somewhat in line with what I would vote, but not all are matching\n",
        "\n"
      ],
      "metadata": {
        "id": "S5MSrLlbsV2z"
      }
    },
    {
      "cell_type": "markdown",
      "source": [
        "### Q1)E)"
      ],
      "metadata": {
        "id": "uneTYP4RdI7A"
      }
    },
    {
      "cell_type": "code",
      "source": [
        "pz = np.loadtxt(\"hw8_probZ_init.txt\")\n",
        "prz = np.loadtxt(\"hw8_probR_init.txt\")"
      ],
      "metadata": {
        "id": "i8f30o8KlJO8"
      },
      "execution_count": null,
      "outputs": []
    },
    {
      "cell_type": "code",
      "source": [
        "k = 4\n",
        "N = 256\n",
        "postProb = np.zeros((k,len(users)))"
      ],
      "metadata": {
        "id": "AWsz-FvmeZVa"
      },
      "execution_count": null,
      "outputs": []
    },
    {
      "cell_type": "code",
      "source": [
        "def loglikeli(user):\n",
        "  sumi = 0\n",
        "  rec, = np.where(ratings[user,:] == 1)\n",
        "  notRec, = np.where(ratings[user,:] == 0)\n",
        "  for i in range(k):\n",
        "    sumi+=(pz[i])*(np.prod(prz[rec,i]))*(np.prod(1-prz[notRec,i]))\n",
        "  return np.log(sumi)"
      ],
      "metadata": {
        "id": "zSOkvI6Fd5Zn"
      },
      "execution_count": null,
      "outputs": []
    },
    {
      "cell_type": "code",
      "source": [
        "def e_step(i,user):\n",
        "  rec, = np.where(ratings[user,:] == 1)\n",
        "  notRec, = np.where(ratings[user,:] == 0)\n",
        "  numi = pz[i]*np.prod(prz[rec,i])*(np.prod(1-prz[notRec,i]))\n",
        "  deno = 0\n",
        "  for ind in range(k):\n",
        "    deno+=pz[ind]*np.prod(prz[rec,ind])*(np.prod(1-prz[notRec,ind]))\n",
        "  return numi/deno"
      ],
      "metadata": {
        "id": "rzBzfvlGxWh5"
      },
      "execution_count": null,
      "outputs": []
    },
    {
      "cell_type": "code",
      "source": [
        "def m_step(i,item):\n",
        "  seen, = np.where(ratings[:,item] == 1)\n",
        "  nSeen, = np.where(ratings[:,item] == -1)\n",
        "  sumi = (np.sum(postProb[i,seen])+prz[item,i]*np.sum(postProb[i,nSeen]))/np.sum(postProb[i,:])\n",
        "  return sumi"
      ],
      "metadata": {
        "id": "jmSJD_gpcZCc"
      },
      "execution_count": null,
      "outputs": []
    },
    {
      "cell_type": "code",
      "source": [
        "logliklii = []\n",
        "for i in tqdm(range(N+1)):\n",
        "  logli = 0\n",
        "  pzTmp = np.zeros(k)\n",
        "  przTmp = np.zeros((len(items),k))\n",
        "  for user in range(len(users)):\n",
        "    logli += loglikeli(user)\n",
        "    for i in range(k):\n",
        "      postProb[i,user] = e_step(i,user)\n",
        "  \n",
        "  for i in range(k):\n",
        "    pzTmp[i] = np.sum(postProb[i,:])/len(users)\n",
        "    for item in range(len(items)):\n",
        "      przTmp[item,i] = m_step(i,item)\n",
        "  \n",
        "  logliklii.append(logli/len(users))\n",
        "  pz  =pzTmp\n",
        "  prz = przTmp"
      ],
      "metadata": {
        "colab": {
          "base_uri": "https://localhost:8080/",
          "height": 49,
          "referenced_widgets": [
            "e0f2f45c9a84496eba86a762d44a56ee",
            "a2dcfb5dab9447dc92e2e1b44d228061",
            "58dffef51de94cbeb703899cb3d6ba07",
            "c0661d34a2d648c8877f5b01aa8130a7",
            "7ee32a55cf4c4c1d8de0cfbf4ea70efe",
            "85d4982dc17c4721ad57b24f855daf92",
            "cce3adf9f751412ea642f952b61595a8",
            "49224162c99e457ea71b50dfc9c6706c",
            "4856631a90fe40eba9d8aab57400c646",
            "32e7f4bf3b2349be82a8af30b7631395",
            "10206bf3812c450991f71c9066b0a8a8"
          ]
        },
        "id": "POPzMXrGkxIM",
        "outputId": "7065893a-fc9c-4e56-f291-1b3d6d245a8e"
      },
      "execution_count": null,
      "outputs": [
        {
          "output_type": "display_data",
          "data": {
            "text/plain": [
              "  0%|          | 0/257 [00:00<?, ?it/s]"
            ],
            "application/vnd.jupyter.widget-view+json": {
              "version_major": 2,
              "version_minor": 0,
              "model_id": "e0f2f45c9a84496eba86a762d44a56ee"
            }
          },
          "metadata": {}
        }
      ]
    },
    {
      "cell_type": "code",
      "source": [
        "indi = [0]\n",
        "ll = [logliklii[0]]\n",
        "for i in range(9):\n",
        "  indi.append(2**i)\n",
        "  ll.append(logliklii[int(2**i)])"
      ],
      "metadata": {
        "id": "LsPXtCJVmvr0"
      },
      "execution_count": null,
      "outputs": []
    },
    {
      "cell_type": "code",
      "source": [],
      "metadata": {
        "id": "ITRyh0haohYs"
      },
      "execution_count": null,
      "outputs": []
    },
    {
      "cell_type": "code",
      "source": [
        "print(\"Table:\")\n",
        "x = PrettyTable()\n",
        "x.add_column(\"Iteration\", indi)\n",
        "x.add_column(\"LogLikelihood\", ll)\n",
        "print(x)"
      ],
      "metadata": {
        "colab": {
          "base_uri": "https://localhost:8080/"
        },
        "id": "lsC0hUMMmSED",
        "outputId": "3127b8b8-1f8b-4339-b147-db3e841e4f7f"
      },
      "execution_count": null,
      "outputs": [
        {
          "output_type": "stream",
          "name": "stdout",
          "text": [
            "Table:\n",
            "+-----------+---------------------+\n",
            "| Iteration |    LogLikelihood    |\n",
            "+-----------+---------------------+\n",
            "|     0     | -28.627324487337628 |\n",
            "|     1     | -19.350314946503318 |\n",
            "|     2     |  -17.90956481801792 |\n",
            "|     4     | -17.081155562337017 |\n",
            "|     8     | -16.629824767528113 |\n",
            "|     16    | -16.287828721915584 |\n",
            "|     32    |  -15.80153795397027 |\n",
            "|     64    | -15.749887678844283 |\n",
            "|    128    | -15.735940712575664 |\n",
            "|    256    | -15.728520329683299 |\n",
            "+-----------+---------------------+\n"
          ]
        }
      ]
    },
    {
      "cell_type": "markdown",
      "source": [
        "### Yes the loglikelihood becomes less and less negative, as we expected."
      ],
      "metadata": {
        "id": "ZT-MWqgUs4Ht"
      }
    },
    {
      "cell_type": "markdown",
      "source": [
        "### Q1F"
      ],
      "metadata": {
        "id": "l0X44NlRp0ek"
      }
    },
    {
      "cell_type": "code",
      "source": [
        "ratingsPerUser[\"A59017531\"][:10]"
      ],
      "metadata": {
        "colab": {
          "base_uri": "https://localhost:8080/"
        },
        "id": "EC4fuaHknUG1",
        "outputId": "64aafcc4-fda9-45f5-a15e-058caf5e739e"
      },
      "execution_count": null,
      "outputs": [
        {
          "output_type": "execute_result",
          "data": {
            "text/plain": [
              "[('Inception', 1.0),\n",
              " ('The_Social_Network', -1.0),\n",
              " ('Black_Swan', -1.0),\n",
              " ('Shutter_Island', -1.0),\n",
              " ('The_Last_Airbender', 1.0),\n",
              " ('Harry_Potter_and_the_Deathly_Hallows:_Part_1', 1.0),\n",
              " ('Iron_Man_2', 1.0),\n",
              " ('Toy_Story_3', 1.0),\n",
              " ('Fast_Five', 1.0),\n",
              " ('Thor', 1.0)]"
            ]
          },
          "metadata": {},
          "execution_count": 80
        }
      ]
    },
    {
      "cell_type": "code",
      "source": [
        "\n"
      ],
      "metadata": {
        "colab": {
          "base_uri": "https://localhost:8080/"
        },
        "id": "VC_6IPuBqqNx",
        "outputId": "067a4ad1-4063-467a-a233-4ea231f9bf99"
      },
      "execution_count": null,
      "outputs": [
        {
          "output_type": "execute_result",
          "data": {
            "text/plain": [
              "(array([9]),)"
            ]
          },
          "metadata": {},
          "execution_count": 89
        }
      ]
    },
    {
      "cell_type": "code",
      "source": [
        "user = \"A59017531\"\n",
        "userId = np.where(users == user)[0][0]\n",
        "recommendations = {}\n",
        "for me in ratingsPerUser[user]:\n",
        "  if me[1] == -1: #unseen\n",
        "    sumi = 0\n",
        "    movieIdx = np.where(items==me[0])[0][0]\n",
        "    for i in range(k):\n",
        "      estep = e_step(i,userId)\n",
        "      mstep = m_step(i,movieIdx)\n",
        "      sumi += estep*mstep\n",
        "    recommendations[me[0]] = sumi"
      ],
      "metadata": {
        "id": "z9tRsanzp2UW"
      },
      "execution_count": null,
      "outputs": []
    },
    {
      "cell_type": "code",
      "source": [
        "dict(sorted(recommendations.items(),key=lambda item:item[1],reverse=True))"
      ],
      "metadata": {
        "colab": {
          "base_uri": "https://localhost:8080/"
        },
        "id": "PSPUnU7MshNg",
        "outputId": "08a9bb76-414b-4233-b1b7-83488c40d2ce"
      },
      "execution_count": null,
      "outputs": [
        {
          "output_type": "execute_result",
          "data": {
            "text/plain": [
              "{'The_Theory_of_Everything': 0.9810400408235112,\n",
              " 'Shutter_Island': 0.9745852668879414,\n",
              " 'Django_Unchained': 0.9731063931312587,\n",
              " '21_Jump_Street': 0.9729138079741417,\n",
              " 'Midnight_in_Paris': 0.9700705368973399,\n",
              " 'Parasite': 0.9697855734535975,\n",
              " 'Hidden_Figures': 0.9648232899695831,\n",
              " 'The_Hunger_Games': 0.9631952084894266,\n",
              " 'The_Perks_of_Being_a_Wallflower': 0.9618823785178835,\n",
              " 'Phantom_Thread': 0.9568020557602742,\n",
              " '12_Years_a_Slave': 0.9549226481950793,\n",
              " 'Gone_Girl': 0.9533566794438127,\n",
              " 'The_Help': 0.9532991684985187,\n",
              " 'Her': 0.9487601164156515,\n",
              " 'The_Social_Network': 0.947674353086089,\n",
              " 'Prometheus': 0.9431487813732097,\n",
              " 'Black_Swan': 0.9403008886436867,\n",
              " 'Drive': 0.9389080698290413,\n",
              " 'The_Farewell': 0.9364692582778592,\n",
              " 'Good_Boys': 0.9316805551144837,\n",
              " 'The_Martian': 0.9243198446314408,\n",
              " 'Hustlers': 0.9230392263890211,\n",
              " 'I_Feel_Pretty': 0.9198683449177839,\n",
              " 'Darkest_Hour': 0.9188775043021438,\n",
              " 'Three_Billboards_Outside_Ebbing': 0.9166413870517898,\n",
              " 'La_La_Land': 0.9075400177503928,\n",
              " 'Les_Miserables': 0.898955453530586,\n",
              " 'The_Girls_with_the_Dragon_Tattoo': 0.894674775604871,\n",
              " 'The_Great_Gatsby': 0.887310662485786,\n",
              " 'Dunkirk': 0.8799365619470496,\n",
              " 'The_Revenant': 0.8793113974336506,\n",
              " 'Ex_Machina': 0.8778101088513737,\n",
              " 'Manchester_by_the_Sea': 0.8740733188278312,\n",
              " 'Pitch_Perfect': 0.8623469324170651,\n",
              " 'World_War_Z': 0.8553481123564523,\n",
              " 'Mad_Max:_Fury_Road': 0.848810825704276,\n",
              " 'Room': 0.8367003390062016,\n",
              " 'Bridemaids': 0.8340954026340719,\n",
              " 'Once_Upon_a_Time_in_Hollywood': 0.8315862756962407,\n",
              " 'The_Hateful_Eight': 0.8268013366459704,\n",
              " 'American_Hustle': 0.8140761941342205,\n",
              " 'Rocketman': 0.8126156038813724,\n",
              " 'Us': 0.7974269241726685,\n",
              " 'The_Shape_of_Water': 0.7931415651194657,\n",
              " 'Star_Wars:_The_Force_Awakens': 0.7873841266943339,\n",
              " 'Chappaquidick': 0.763837402223503,\n",
              " 'Terminator:_Dark_Fate': 0.7487409431505707,\n",
              " 'Magic_Mike': 0.7146949155178426,\n",
              " 'Fifty_Shades_of_Grey': 0.6712659458102751}"
            ]
          },
          "metadata": {},
          "execution_count": 92
        }
      ]
    },
    {
      "cell_type": "markdown",
      "source": [
        "### Yup, these recommendations are wayy more accurate than the mean ones."
      ],
      "metadata": {
        "id": "H-OP9N9WuYUd"
      }
    },
    {
      "cell_type": "code",
      "source": [],
      "metadata": {
        "id": "quaJygW0svRQ"
      },
      "execution_count": null,
      "outputs": []
    }
  ]
}