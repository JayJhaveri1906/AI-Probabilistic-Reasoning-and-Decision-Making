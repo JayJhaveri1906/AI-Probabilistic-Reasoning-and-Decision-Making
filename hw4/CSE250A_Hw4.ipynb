{
  "nbformat": 4,
  "nbformat_minor": 0,
  "metadata": {
    "colab": {
      "provenance": []
    },
    "kernelspec": {
      "name": "python3",
      "display_name": "Python 3"
    },
    "language_info": {
      "name": "python"
    },
    "widgets": {
      "application/vnd.jupyter.widget-state+json": {
        "b8c9a20d718841119cac657744c4377d": {
          "model_module": "@jupyter-widgets/controls",
          "model_name": "HBoxModel",
          "model_module_version": "1.5.0",
          "state": {
            "_dom_classes": [],
            "_model_module": "@jupyter-widgets/controls",
            "_model_module_version": "1.5.0",
            "_model_name": "HBoxModel",
            "_view_count": null,
            "_view_module": "@jupyter-widgets/controls",
            "_view_module_version": "1.5.0",
            "_view_name": "HBoxView",
            "box_style": "",
            "children": [
              "IPY_MODEL_f8c5d0d58dd742498cd9e4987215d5ca",
              "IPY_MODEL_3459056a3d90405bb10cf86e88e0d667",
              "IPY_MODEL_a035abdac2a7430ebe96d6f132b4218e"
            ],
            "layout": "IPY_MODEL_2e26c46daca047fca4b9a0162e6cd5cb"
          }
        },
        "f8c5d0d58dd742498cd9e4987215d5ca": {
          "model_module": "@jupyter-widgets/controls",
          "model_name": "HTMLModel",
          "model_module_version": "1.5.0",
          "state": {
            "_dom_classes": [],
            "_model_module": "@jupyter-widgets/controls",
            "_model_module_version": "1.5.0",
            "_model_name": "HTMLModel",
            "_view_count": null,
            "_view_module": "@jupyter-widgets/controls",
            "_view_module_version": "1.5.0",
            "_view_name": "HTMLView",
            "description": "",
            "description_tooltip": null,
            "layout": "IPY_MODEL_fa537d7b560042f49a8eabc63d6c86ec",
            "placeholder": "​",
            "style": "IPY_MODEL_110bac4f18ca4cf78ae8ead1a6ef625d",
            "value": "100%"
          }
        },
        "3459056a3d90405bb10cf86e88e0d667": {
          "model_module": "@jupyter-widgets/controls",
          "model_name": "FloatProgressModel",
          "model_module_version": "1.5.0",
          "state": {
            "_dom_classes": [],
            "_model_module": "@jupyter-widgets/controls",
            "_model_module_version": "1.5.0",
            "_model_name": "FloatProgressModel",
            "_view_count": null,
            "_view_module": "@jupyter-widgets/controls",
            "_view_module_version": "1.5.0",
            "_view_name": "ProgressView",
            "bar_style": "success",
            "description": "",
            "description_tooltip": null,
            "layout": "IPY_MODEL_666d2c0248d7436e8f1b01bfc8939d42",
            "max": 10000,
            "min": 0,
            "orientation": "horizontal",
            "style": "IPY_MODEL_49b7c249c9cf4704884056da8c4f054d",
            "value": 10000
          }
        },
        "a035abdac2a7430ebe96d6f132b4218e": {
          "model_module": "@jupyter-widgets/controls",
          "model_name": "HTMLModel",
          "model_module_version": "1.5.0",
          "state": {
            "_dom_classes": [],
            "_model_module": "@jupyter-widgets/controls",
            "_model_module_version": "1.5.0",
            "_model_name": "HTMLModel",
            "_view_count": null,
            "_view_module": "@jupyter-widgets/controls",
            "_view_module_version": "1.5.0",
            "_view_name": "HTMLView",
            "description": "",
            "description_tooltip": null,
            "layout": "IPY_MODEL_91155a7fa0de412e8724925a028f0643",
            "placeholder": "​",
            "style": "IPY_MODEL_14760030544e48578a6764165e8411a6",
            "value": " 10000/10000 [00:12&lt;00:00, 814.13it/s]"
          }
        },
        "2e26c46daca047fca4b9a0162e6cd5cb": {
          "model_module": "@jupyter-widgets/base",
          "model_name": "LayoutModel",
          "model_module_version": "1.2.0",
          "state": {
            "_model_module": "@jupyter-widgets/base",
            "_model_module_version": "1.2.0",
            "_model_name": "LayoutModel",
            "_view_count": null,
            "_view_module": "@jupyter-widgets/base",
            "_view_module_version": "1.2.0",
            "_view_name": "LayoutView",
            "align_content": null,
            "align_items": null,
            "align_self": null,
            "border": null,
            "bottom": null,
            "display": null,
            "flex": null,
            "flex_flow": null,
            "grid_area": null,
            "grid_auto_columns": null,
            "grid_auto_flow": null,
            "grid_auto_rows": null,
            "grid_column": null,
            "grid_gap": null,
            "grid_row": null,
            "grid_template_areas": null,
            "grid_template_columns": null,
            "grid_template_rows": null,
            "height": null,
            "justify_content": null,
            "justify_items": null,
            "left": null,
            "margin": null,
            "max_height": null,
            "max_width": null,
            "min_height": null,
            "min_width": null,
            "object_fit": null,
            "object_position": null,
            "order": null,
            "overflow": null,
            "overflow_x": null,
            "overflow_y": null,
            "padding": null,
            "right": null,
            "top": null,
            "visibility": null,
            "width": null
          }
        },
        "fa537d7b560042f49a8eabc63d6c86ec": {
          "model_module": "@jupyter-widgets/base",
          "model_name": "LayoutModel",
          "model_module_version": "1.2.0",
          "state": {
            "_model_module": "@jupyter-widgets/base",
            "_model_module_version": "1.2.0",
            "_model_name": "LayoutModel",
            "_view_count": null,
            "_view_module": "@jupyter-widgets/base",
            "_view_module_version": "1.2.0",
            "_view_name": "LayoutView",
            "align_content": null,
            "align_items": null,
            "align_self": null,
            "border": null,
            "bottom": null,
            "display": null,
            "flex": null,
            "flex_flow": null,
            "grid_area": null,
            "grid_auto_columns": null,
            "grid_auto_flow": null,
            "grid_auto_rows": null,
            "grid_column": null,
            "grid_gap": null,
            "grid_row": null,
            "grid_template_areas": null,
            "grid_template_columns": null,
            "grid_template_rows": null,
            "height": null,
            "justify_content": null,
            "justify_items": null,
            "left": null,
            "margin": null,
            "max_height": null,
            "max_width": null,
            "min_height": null,
            "min_width": null,
            "object_fit": null,
            "object_position": null,
            "order": null,
            "overflow": null,
            "overflow_x": null,
            "overflow_y": null,
            "padding": null,
            "right": null,
            "top": null,
            "visibility": null,
            "width": null
          }
        },
        "110bac4f18ca4cf78ae8ead1a6ef625d": {
          "model_module": "@jupyter-widgets/controls",
          "model_name": "DescriptionStyleModel",
          "model_module_version": "1.5.0",
          "state": {
            "_model_module": "@jupyter-widgets/controls",
            "_model_module_version": "1.5.0",
            "_model_name": "DescriptionStyleModel",
            "_view_count": null,
            "_view_module": "@jupyter-widgets/base",
            "_view_module_version": "1.2.0",
            "_view_name": "StyleView",
            "description_width": ""
          }
        },
        "666d2c0248d7436e8f1b01bfc8939d42": {
          "model_module": "@jupyter-widgets/base",
          "model_name": "LayoutModel",
          "model_module_version": "1.2.0",
          "state": {
            "_model_module": "@jupyter-widgets/base",
            "_model_module_version": "1.2.0",
            "_model_name": "LayoutModel",
            "_view_count": null,
            "_view_module": "@jupyter-widgets/base",
            "_view_module_version": "1.2.0",
            "_view_name": "LayoutView",
            "align_content": null,
            "align_items": null,
            "align_self": null,
            "border": null,
            "bottom": null,
            "display": null,
            "flex": null,
            "flex_flow": null,
            "grid_area": null,
            "grid_auto_columns": null,
            "grid_auto_flow": null,
            "grid_auto_rows": null,
            "grid_column": null,
            "grid_gap": null,
            "grid_row": null,
            "grid_template_areas": null,
            "grid_template_columns": null,
            "grid_template_rows": null,
            "height": null,
            "justify_content": null,
            "justify_items": null,
            "left": null,
            "margin": null,
            "max_height": null,
            "max_width": null,
            "min_height": null,
            "min_width": null,
            "object_fit": null,
            "object_position": null,
            "order": null,
            "overflow": null,
            "overflow_x": null,
            "overflow_y": null,
            "padding": null,
            "right": null,
            "top": null,
            "visibility": null,
            "width": null
          }
        },
        "49b7c249c9cf4704884056da8c4f054d": {
          "model_module": "@jupyter-widgets/controls",
          "model_name": "ProgressStyleModel",
          "model_module_version": "1.5.0",
          "state": {
            "_model_module": "@jupyter-widgets/controls",
            "_model_module_version": "1.5.0",
            "_model_name": "ProgressStyleModel",
            "_view_count": null,
            "_view_module": "@jupyter-widgets/base",
            "_view_module_version": "1.2.0",
            "_view_name": "StyleView",
            "bar_color": null,
            "description_width": ""
          }
        },
        "91155a7fa0de412e8724925a028f0643": {
          "model_module": "@jupyter-widgets/base",
          "model_name": "LayoutModel",
          "model_module_version": "1.2.0",
          "state": {
            "_model_module": "@jupyter-widgets/base",
            "_model_module_version": "1.2.0",
            "_model_name": "LayoutModel",
            "_view_count": null,
            "_view_module": "@jupyter-widgets/base",
            "_view_module_version": "1.2.0",
            "_view_name": "LayoutView",
            "align_content": null,
            "align_items": null,
            "align_self": null,
            "border": null,
            "bottom": null,
            "display": null,
            "flex": null,
            "flex_flow": null,
            "grid_area": null,
            "grid_auto_columns": null,
            "grid_auto_flow": null,
            "grid_auto_rows": null,
            "grid_column": null,
            "grid_gap": null,
            "grid_row": null,
            "grid_template_areas": null,
            "grid_template_columns": null,
            "grid_template_rows": null,
            "height": null,
            "justify_content": null,
            "justify_items": null,
            "left": null,
            "margin": null,
            "max_height": null,
            "max_width": null,
            "min_height": null,
            "min_width": null,
            "object_fit": null,
            "object_position": null,
            "order": null,
            "overflow": null,
            "overflow_x": null,
            "overflow_y": null,
            "padding": null,
            "right": null,
            "top": null,
            "visibility": null,
            "width": null
          }
        },
        "14760030544e48578a6764165e8411a6": {
          "model_module": "@jupyter-widgets/controls",
          "model_name": "DescriptionStyleModel",
          "model_module_version": "1.5.0",
          "state": {
            "_model_module": "@jupyter-widgets/controls",
            "_model_module_version": "1.5.0",
            "_model_name": "DescriptionStyleModel",
            "_view_count": null,
            "_view_module": "@jupyter-widgets/base",
            "_view_module_version": "1.2.0",
            "_view_name": "StyleView",
            "description_width": ""
          }
        }
      }
    }
  },
  "cells": [
    {
      "cell_type": "markdown",
      "source": [
        "# Q4.3)"
      ],
      "metadata": {
        "id": "hC3SrL_bvrnR"
      }
    },
    {
      "cell_type": "code",
      "execution_count": null,
      "metadata": {
        "id": "rs9U2zmsOwCk"
      },
      "outputs": [],
      "source": [
        "import numpy as np\n",
        "from collections import defaultdict\n",
        "import math\n",
        "from tqdm.notebook import tqdm\n",
        "import matplotlib.pyplot as plt\n",
        "import warnings\n",
        "warnings.filterwarnings(\"ignore\")"
      ]
    },
    {
      "cell_type": "markdown",
      "source": [
        "## Import Dataset"
      ],
      "metadata": {
        "id": "FsQnb-VTPl7H"
      }
    },
    {
      "cell_type": "markdown",
      "source": [
        "### Importing vocab"
      ],
      "metadata": {
        "id": "Z-k4aPPWVjtb"
      }
    },
    {
      "cell_type": "code",
      "source": [
        "vocab ={}\n",
        "with open(\"hw4_vocab.txt\") as file:\n",
        "  f = file.readlines()\n",
        "  # print(f)\n",
        "  for i,l in enumerate(f):\n",
        "    vocab[i+1]=l\n",
        "    # break\n",
        "for key in vocab:\n",
        "  vocab[key] = vocab[key][:-1]\n",
        "\n",
        "# vocab[1]"
      ],
      "metadata": {
        "id": "9gIE7ZA0O2VE"
      },
      "execution_count": null,
      "outputs": []
    },
    {
      "cell_type": "markdown",
      "source": [
        "### Importing Unigram"
      ],
      "metadata": {
        "id": "7fTlxlDlVf12"
      }
    },
    {
      "cell_type": "code",
      "source": [
        "unigram = defaultdict(int)\n",
        "with open(\"hw4_unigram.txt\") as file:\n",
        "  f = file.readlines()\n",
        "  # print(f)\n",
        "  for i,l in enumerate(f):\n",
        "    unigram[vocab[i+1]]=int(l[:-1])\n",
        "    # break\n",
        "\n",
        "\n",
        "# unigram[\"THE\"]"
      ],
      "metadata": {
        "id": "jqcK7k0qUPvY"
      },
      "execution_count": null,
      "outputs": []
    },
    {
      "cell_type": "markdown",
      "source": [
        "### Importing Bigrams"
      ],
      "metadata": {
        "id": "L16dt1tiX15C"
      }
    },
    {
      "cell_type": "code",
      "source": [
        "bigram = defaultdict(list)\n",
        "with open(\"hw4_bigram.txt\") as file:\n",
        "  f = file.readlines()\n",
        "  # print(f)\n",
        "  for i,l in enumerate(f):\n",
        "    #PREPROCESS\n",
        "    l = l.split(\"\\t\")\n",
        "    l[-1] = l[-1][:-1]\n",
        "    l = list(map(int,l))\n",
        "    # print(l)\n",
        "    # print(vocab[l[0]])\n",
        "    bigram[vocab[l[0]]].append((vocab[l[1]],l[2]))\n",
        "    # print(bigram)\n",
        "    # unigram[vocab[i]]=int(l[:-1])\n",
        "    # break\n",
        "\n",
        "\n",
        "# bigram[\"THE\"][:10]"
      ],
      "metadata": {
        "id": "GOX8jU9aX4Ez"
      },
      "execution_count": null,
      "outputs": []
    },
    {
      "cell_type": "markdown",
      "source": [
        "## Q4.3 A)"
      ],
      "metadata": {
        "id": "FZWEIaulX8Qa"
      }
    },
    {
      "cell_type": "code",
      "source": [
        "def prob(key):\n",
        "  return unigram[key]/sum(unigram.values())\n",
        "print(\"Words\\t\\tprobability\")\n",
        "print(\"_\"*50)\n",
        "for key in unigram:\n",
        "  if key[0] == \"M\":\n",
        "    print(key,\"\\t\\t\",prob(key))\n"
      ],
      "metadata": {
        "colab": {
          "base_uri": "https://localhost:8080/"
        },
        "id": "bSCaDyofWj_C",
        "outputId": "baa2746f-8ad3-404a-f6b1-39dea1e3379e"
      },
      "execution_count": null,
      "outputs": [
        {
          "output_type": "stream",
          "name": "stdout",
          "text": [
            "Words\t\tprobability\n",
            "__________________________________________________\n",
            "MILLION \t\t 0.002072759168154815\n",
            "MORE \t\t 0.0017088989966186725\n",
            "MR. \t\t 0.0014416083492816956\n",
            "MOST \t\t 0.0007879173033190295\n",
            "MARKET \t\t 0.0007803712804681068\n",
            "MAY \t\t 0.0007298973156289532\n",
            "M. \t\t 0.0007034067394618568\n",
            "MANY \t\t 0.0006967290595970209\n",
            "MADE \t\t 0.0005598610827336895\n",
            "MUCH \t\t 0.0005145971758110562\n",
            "MAKE \t\t 0.0005144626437991272\n",
            "MONTH \t\t 0.00044490959363187093\n",
            "MONEY \t\t 0.00043710673693999306\n",
            "MONTHS \t\t 0.0004057607781605526\n",
            "MY \t\t 0.0004003183467688823\n",
            "MONDAY \t\t 0.00038198530259784006\n",
            "MAJOR \t\t 0.00037089252670515475\n",
            "MILITARY \t\t 0.00035204581485220204\n",
            "MEMBERS \t\t 0.00033606096579846475\n",
            "MIGHT \t\t 0.00027358919153183117\n",
            "MEETING \t\t 0.0002657374141083427\n",
            "MUST \t\t 0.0002665079156312084\n",
            "ME \t\t 0.00026357267173457725\n",
            "MARCH \t\t 0.0002597935452176646\n",
            "MAN \t\t 0.0002528834918776787\n",
            "MS. \t\t 0.0002389900041002911\n",
            "MINISTER \t\t 0.00023977273580605944\n",
            "MAKING \t\t 0.00021170446604452378\n",
            "MOVE \t\t 0.0002099555498894477\n",
            "MILES \t\t 0.00020596851026319035\n"
          ]
        }
      ]
    },
    {
      "cell_type": "markdown",
      "source": [
        "## Q4.3 B)"
      ],
      "metadata": {
        "id": "MODu2weebFSJ"
      }
    },
    {
      "cell_type": "code",
      "source": [
        "def bigramProb(word):\n",
        "  theFollower = defaultdict(int)\n",
        "\n",
        "  # FOR THE\n",
        "  sumi = 0\n",
        "  followers = bigram[word]\n",
        "  for i in followers:\n",
        "    sumi += i[1]\n",
        "\n",
        "  for i in followers:\n",
        "    theFollower[i[0]] = i[1]/sumi\n",
        "\n",
        "  theFollowers = (sorted(theFollower.items(), key=lambda item: item[1],reverse=True))\n",
        "  return theFollowers\n",
        "\n",
        "print('For word \"The\": ')\n",
        "print(\"Words\\t\\tprobability\")\n",
        "print(\"_\"*50)\n",
        "for i in bigramProb(\"THE\")[:10]:\n",
        "  print(i[0],\"\\t\\t\",i[1])"
      ],
      "metadata": {
        "colab": {
          "base_uri": "https://localhost:8080/"
        },
        "id": "tivkx_xPXPi-",
        "outputId": "5921b064-52f4-49b6-f124-e7b4819ffa6a"
      },
      "execution_count": null,
      "outputs": [
        {
          "output_type": "stream",
          "name": "stdout",
          "text": [
            "For word \"The\": \n",
            "Words\t\tprobability\n",
            "__________________________________________________\n",
            "<UNK> \t\t 0.6150198100055118\n",
            "U. \t\t 0.013372499432610317\n",
            "FIRST \t\t 0.011720260675031612\n",
            "COMPANY \t\t 0.011658788055636611\n",
            "NEW \t\t 0.009451480076516552\n",
            "UNITED \t\t 0.008672308141231398\n",
            "GOVERNMENT \t\t 0.006803488635995202\n",
            "NINETEEN \t\t 0.006650714911000876\n",
            "SAME \t\t 0.006287066757449016\n",
            "TWO \t\t 0.006160749602827221\n"
          ]
        }
      ]
    },
    {
      "cell_type": "markdown",
      "source": [
        "## Q 4.3) C)"
      ],
      "metadata": {
        "id": "Gs2eMhqNdVCU"
      }
    },
    {
      "cell_type": "markdown",
      "source": [
        "### Unigram Lu"
      ],
      "metadata": {
        "id": "oULYE_lmdYAI"
      }
    },
    {
      "cell_type": "code",
      "source": [
        "ip = \"THE STOCK MARKET FELL BY ONE HUNDRED POINTS LAST WEEK\"\n",
        "ip = ip.split()"
      ],
      "metadata": {
        "id": "QeJfFnC3cVgH"
      },
      "execution_count": null,
      "outputs": []
    },
    {
      "cell_type": "code",
      "source": [
        "# ip[0]"
      ],
      "metadata": {
        "id": "AN3mgVvbd3lH"
      },
      "execution_count": null,
      "outputs": []
    },
    {
      "cell_type": "code",
      "source": [
        "sumi = 0\n",
        "for i in range(len(ip)):\n",
        "  sumi += math.log(unigram[ip[i]]/sum(unigram.values()))\n",
        "print(\"Lu = \",sumi)"
      ],
      "metadata": {
        "colab": {
          "base_uri": "https://localhost:8080/"
        },
        "id": "liUTB6cRd4HP",
        "outputId": "423efbdc-d038-4b18-b2aa-b57e9659ac42"
      },
      "execution_count": null,
      "outputs": [
        {
          "output_type": "stream",
          "name": "stdout",
          "text": [
            "Lu =  -64.50944034364878\n"
          ]
        }
      ]
    },
    {
      "cell_type": "markdown",
      "source": [
        "### Bigram Lb"
      ],
      "metadata": {
        "id": "o_fRw3WsfoWl"
      }
    },
    {
      "cell_type": "code",
      "source": [
        "ip = \"<s> THE STOCK MARKET FELL BY ONE HUNDRED POINTS LAST WEEK\"\n",
        "ip = ip.split()"
      ],
      "metadata": {
        "id": "BVplwphVeFva"
      },
      "execution_count": null,
      "outputs": []
    },
    {
      "cell_type": "code",
      "source": [
        "sumi = 0\n",
        "for i in range(0,len(ip)-1):\n",
        "  word1,word2 = ip[i],ip[i+1]\n",
        "  # print(word1,word2,end=\" \")\n",
        "  probs = dict(bigramProb(word1))\n",
        "  # print(\"\\t\",probs[word2])\n",
        "  sumi += math.log(probs[word2])\n",
        "print(\"Lb = \",sumi)"
      ],
      "metadata": {
        "colab": {
          "base_uri": "https://localhost:8080/"
        },
        "id": "Zx4LEtclf5It",
        "outputId": "22d0ab6c-00bd-4034-fc29-822939be56d1"
      },
      "execution_count": null,
      "outputs": [
        {
          "output_type": "stream",
          "name": "stdout",
          "text": [
            "Lb =  -40.91813213378977\n"
          ]
        }
      ]
    },
    {
      "cell_type": "markdown",
      "source": [
        "### Bigram yields the higest log likelihood"
      ],
      "metadata": {
        "id": "GxHUctbgwmxV"
      }
    },
    {
      "cell_type": "markdown",
      "source": [
        "## 4.3) D)"
      ],
      "metadata": {
        "id": "oNrjzbzmhkBG"
      }
    },
    {
      "cell_type": "markdown",
      "source": [
        "### Unigram Lu"
      ],
      "metadata": {
        "id": "AJ7JgRz9hmeQ"
      }
    },
    {
      "cell_type": "code",
      "source": [
        "ip = \"THE SIXTEEN OFFICIALS SOLD FIRE INSURANCE\"\n",
        "ip = ip.split()"
      ],
      "metadata": {
        "id": "vzpuCz_nhsV5"
      },
      "execution_count": null,
      "outputs": []
    },
    {
      "cell_type": "code",
      "source": [
        "# ip[0]"
      ],
      "metadata": {
        "id": "B_rn-FvxhsV5"
      },
      "execution_count": null,
      "outputs": []
    },
    {
      "cell_type": "code",
      "source": [
        "sumi = 0\n",
        "for i in range(len(ip)):\n",
        "  sumi += math.log(unigram[ip[i]]/sum(unigram.values()))\n",
        "print(\"Lu = \",sumi)"
      ],
      "metadata": {
        "colab": {
          "base_uri": "https://localhost:8080/"
        },
        "outputId": "c3373d49-8190-4db5-e283-5ce5caa3620e",
        "id": "N2lP_FtHhsV5"
      },
      "execution_count": null,
      "outputs": [
        {
          "output_type": "stream",
          "name": "stdout",
          "text": [
            "Lu =  -44.291934473132606\n"
          ]
        }
      ]
    },
    {
      "cell_type": "markdown",
      "source": [
        "### Bigram Lb"
      ],
      "metadata": {
        "id": "yUPO-U33iA3S"
      }
    },
    {
      "cell_type": "code",
      "source": [
        "ip = \"<s> THE SIXTEEN OFFICIALS SOLD FIRE INSURANCE\"\n",
        "ip = ip.split()"
      ],
      "metadata": {
        "id": "K6JmHR5PiA3S"
      },
      "execution_count": null,
      "outputs": []
    },
    {
      "cell_type": "code",
      "source": [
        "sumi = 0\n",
        "for i in range(0,len(ip)-1):\n",
        "  word1,word2 = ip[i],ip[i+1]\n",
        "  # print(word1,word2,end=\" \")\n",
        "  probs = dict(bigramProb(word1))\n",
        "  # print(\"\\t\",probs[word2])\n",
        "  if word2 not in probs:\n",
        "    sumi = float(\"-inf\")\n",
        "    print(word2,\"|\",word1, \" not present\")\n",
        "    continue\n",
        "  sumi += math.log(probs[word2])\n",
        "print(\"Lb = \",sumi)"
      ],
      "metadata": {
        "colab": {
          "base_uri": "https://localhost:8080/"
        },
        "outputId": "097cf3f3-b6f7-4b8a-8755-39fdcd6444e2",
        "id": "MB7fyH2tiA3S"
      },
      "execution_count": null,
      "outputs": [
        {
          "output_type": "stream",
          "name": "stdout",
          "text": [
            "OFFICIALS | SIXTEEN  not present\n",
            "FIRE | SOLD  not present\n",
            "Lb =  -inf\n"
          ]
        }
      ]
    },
    {
      "cell_type": "markdown",
      "source": [
        "### Using this model, the Bigram becomes -infinite because the word pairings are not present, hence log(0) = inf"
      ],
      "metadata": {
        "id": "ednSgcKkbHkq"
      }
    },
    {
      "cell_type": "markdown",
      "source": [
        "## Q4.3 E)"
      ],
      "metadata": {
        "id": "kM31ntYdjM-_"
      }
    },
    {
      "cell_type": "code",
      "source": [
        "# my_default_dict = defaultdict(int,d)"
      ],
      "metadata": {
        "id": "leVe45C0iELl"
      },
      "execution_count": null,
      "outputs": []
    },
    {
      "cell_type": "code",
      "source": [
        "ip = \"<s> THE SIXTEEN OFFICIALS SOLD FIRE INSURANCE\"\n",
        "ip = ip.split()"
      ],
      "metadata": {
        "id": "VsHG4gScjS2x"
      },
      "execution_count": null,
      "outputs": []
    },
    {
      "cell_type": "code",
      "source": [
        "best_Lm = []\n",
        "for lambdaa in tqdm(range(1,10001)):\n",
        "  sumi = 0\n",
        "\n",
        "  for i in range(0,len(ip)-1):\n",
        "    word1,word2 = ip[i],ip[i+1]\n",
        "    # print(word1,word2,end=\" \")\n",
        "    probs = dict(bigramProb(word1))\n",
        "    # print(\"\\t\",probs[word2])\n",
        "    # if word2 not in probs:\n",
        "    #   sumi = float(\"-inf\")\n",
        "    #   print(word2,\"|\",word1, \" not present\")\n",
        "    #   continue\n",
        "    probs = defaultdict(int,probs)\n",
        "    sumi += math.log((1-(lambdaa/10000))*(probs[word2])+(lambdaa/10000)*(unigram[word2]/sum(unigram.values())))\n",
        "  best_Lm.append(sumi)\n",
        "\n",
        "print(\"best lambda = \", (best_Lm.index(max(best_Lm)))/10000)\n",
        "print(\"best Lm = \", (max(best_Lm)))"
      ],
      "metadata": {
        "colab": {
          "base_uri": "https://localhost:8080/",
          "height": 84,
          "referenced_widgets": [
            "b8c9a20d718841119cac657744c4377d",
            "f8c5d0d58dd742498cd9e4987215d5ca",
            "3459056a3d90405bb10cf86e88e0d667",
            "a035abdac2a7430ebe96d6f132b4218e",
            "2e26c46daca047fca4b9a0162e6cd5cb",
            "fa537d7b560042f49a8eabc63d6c86ec",
            "110bac4f18ca4cf78ae8ead1a6ef625d",
            "666d2c0248d7436e8f1b01bfc8939d42",
            "49b7c249c9cf4704884056da8c4f054d",
            "91155a7fa0de412e8724925a028f0643",
            "14760030544e48578a6764165e8411a6"
          ]
        },
        "outputId": "f28562cd-682d-4165-8a37-e47c6518f572",
        "id": "-RPRfhCMjS2x"
      },
      "execution_count": null,
      "outputs": [
        {
          "output_type": "display_data",
          "data": {
            "text/plain": [
              "  0%|          | 0/10000 [00:00<?, ?it/s]"
            ],
            "application/vnd.jupyter.widget-view+json": {
              "version_major": 2,
              "version_minor": 0,
              "model_id": "b8c9a20d718841119cac657744c4377d"
            }
          },
          "metadata": {}
        },
        {
          "output_type": "stream",
          "name": "stdout",
          "text": [
            "best lambda =  0.6478\n",
            "best Lm =  -42.964137160084704\n"
          ]
        }
      ]
    },
    {
      "cell_type": "code",
      "source": [
        "plt.plot(np.linspace(0/10000,10000/10000,10000),best_Lm)\n",
        "plt.show()"
      ],
      "metadata": {
        "colab": {
          "base_uri": "https://localhost:8080/",
          "height": 265
        },
        "id": "INFD8jmtlRDD",
        "outputId": "abe7fa45-8fc1-408a-9587-47089c1bbf26"
      },
      "execution_count": null,
      "outputs": [
        {
          "output_type": "display_data",
          "data": {
            "text/plain": [
              "<Figure size 432x288 with 1 Axes>"
            ],
            "image/png": "[encoded data removed]"
          },
          "metadata": {
            "needs_background": "light"
          }
        }
      ]
    },
    {
      "cell_type": "markdown",
      "source": [
        "# Q4.4"
      ],
      "metadata": {
        "id": "L-lG39F3vknk"
      }
    },
    {
      "cell_type": "markdown",
      "source": [
        "## Q4.4 A)"
      ],
      "metadata": {
        "id": "zJc4VgLezSGB"
      }
    },
    {
      "cell_type": "code",
      "source": [
        "s2000 = []\n",
        "with open(\"/content/nasdaq00.txt\") as file:\n",
        "  f = file.readlines()\n",
        "  # print(f)\n",
        "  for i,l in enumerate(f):\n",
        "    s2000.append(l)\n",
        "    # break\n",
        "# print(s2000[0])\n",
        "for key in range(len(s2000)):\n",
        "  s2000[key] = float(s2000[key][:-1])\n",
        "\n",
        "# print(s2000[0])\n",
        "# print(s2000[0])"
      ],
      "metadata": {
        "id": "hvNeSdetm3HO"
      },
      "execution_count": null,
      "outputs": []
    },
    {
      "cell_type": "code",
      "source": [
        "s2001 = []\n",
        "with open(\"/content/nasdaq01.txt\") as file:\n",
        "  f = file.readlines()\n",
        "  # print(f)\n",
        "  for i,l in enumerate(f):\n",
        "    s2001.append(l)\n",
        "    # break\n",
        "# print(s2001[0])\n",
        "for key in range(len(s2001)):\n",
        "  s2001[key] = float(s2001[key][:-1])\n",
        "\n",
        "# print(s2001[0])\n",
        "# print(s2001[0])"
      ],
      "metadata": {
        "id": "AjbN350kzbUi"
      },
      "execution_count": null,
      "outputs": []
    },
    {
      "cell_type": "code",
      "source": [
        "s2000 = np.array(s2000)\n",
        "y_00 = s2000[3:]\n",
        "# print(y_00)\n",
        "y_00 = y_00.reshape(-1,1)\n",
        "# print(y_00.shape)"
      ],
      "metadata": {
        "id": "eWwSw0xM0Mjw"
      },
      "execution_count": null,
      "outputs": []
    },
    {
      "cell_type": "code",
      "source": [
        "X_00 = []\n",
        "for i in range(len(s2000)-3):\n",
        "  tmp = []\n",
        "  tmp.extend([s2000[i],s2000[i+1],s2000[i+2]])\n",
        "  X_00.append(tmp)\n",
        "X_00 = np.array(X_00)\n",
        "# print((X_00.shape))"
      ],
      "metadata": {
        "id": "47ShxqVG0oLD"
      },
      "execution_count": null,
      "outputs": []
    },
    {
      "cell_type": "code",
      "source": [
        "# y = Xb\n",
        "b_00 = []\n",
        "theta,residuals,rank,s = np.linalg.lstsq(X_00, y_00)\n",
        "# print(theta)\n",
        "print(\"Linear Coefficients:\")\n",
        "print(\"a1:\",theta[2][0])\n",
        "print(\"a2:\",theta[1][0])\n",
        "print(\"a3:\",theta[0][0])"
      ],
      "metadata": {
        "colab": {
          "base_uri": "https://localhost:8080/"
        },
        "id": "pGUNuG_q14Xe",
        "outputId": "3f5e5421-11e8-4c68-dd8c-ecc2e57613d3"
      },
      "execution_count": null,
      "outputs": [
        {
          "output_type": "stream",
          "name": "stdout",
          "text": [
            "Linear Coefficients:\n",
            "a1: 0.9506722769536844\n",
            "a2: 0.015603326703986786\n",
            "a3: 0.031894723175170614\n"
          ]
        }
      ]
    },
    {
      "cell_type": "markdown",
      "source": [
        "## Q4.4 B)"
      ],
      "metadata": {
        "id": "-rmqTx2YysnT"
      }
    },
    {
      "cell_type": "markdown",
      "source": [
        "#### RMSE 00"
      ],
      "metadata": {
        "id": "Fqb0IqMdY3TX"
      }
    },
    {
      "cell_type": "code",
      "source": [
        "y_00_pred = np.dot(X_00, theta)\n",
        "\n",
        "MSE_00 = ((y_00 - y_00_pred)**2).mean()\n",
        "print(\"MSE:\",MSE_00)\n",
        "print(\"RMSE 2000:\",math.sqrt(MSE_00))"
      ],
      "metadata": {
        "colab": {
          "base_uri": "https://localhost:8080/"
        },
        "id": "KIjIOqEU2kPw",
        "outputId": "4a388caa-7753-4c5b-de50-a7d1f6a3c27f"
      },
      "execution_count": null,
      "outputs": [
        {
          "output_type": "stream",
          "name": "stdout",
          "text": [
            "MSE: 13902.375020416126\n",
            "RMSE 2000: 117.9083331254247\n"
          ]
        }
      ]
    },
    {
      "cell_type": "markdown",
      "source": [
        "#### RMSE 01"
      ],
      "metadata": {
        "id": "V1Re4PltY6_V"
      }
    },
    {
      "cell_type": "code",
      "source": [
        "X_01 = []\n",
        "for i in range(len(s2001)-3):\n",
        "  tmp = []\n",
        "  tmp.extend([s2001[i],s2001[i+1],s2001[i+2]])\n",
        "  X_01.append(tmp)\n",
        "\n",
        "s2001 = np.array(s2001)\n",
        "y_01 = s2001[3:]\n",
        "# print(y_00)\n",
        "y_01 = y_01.reshape(-1,1)\n",
        "# print(y_01.shape)\n",
        "\n",
        "\n",
        "X_01 = np.array(X_01)\n",
        "# print((X_01.shape))\n",
        "y_01_pred = np.dot(X_01, theta)\n",
        "\n",
        "MSE_01 = ((y_01 - y_01_pred)**2).mean()\n",
        "print(\"MSE:\",MSE_01)\n",
        "print(\"RMSE 2001:\",math.sqrt(MSE_01))"
      ],
      "metadata": {
        "colab": {
          "base_uri": "https://localhost:8080/"
        },
        "id": "phH9L32D3Ju4",
        "outputId": "411b111a-830f-4799-c1e5-c50fea08fc7e"
      },
      "execution_count": null,
      "outputs": [
        {
          "output_type": "stream",
          "name": "stdout",
          "text": [
            "MSE: 2985.0983142892514\n",
            "RMSE 2001: 54.63605324590395\n"
          ]
        }
      ]
    },
    {
      "cell_type": "code",
      "source": [],
      "metadata": {
        "id": "k5rtf8E32uM_"
      },
      "execution_count": null,
      "outputs": []
    }
  ]
}